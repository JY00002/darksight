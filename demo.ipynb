{
 "cells": [
  {
   "cell_type": "code",
   "execution_count": 1,
   "metadata": {},
   "outputs": [],
   "source": [
    "import numpy as np\n",
    "from darksight.darksight import *\n",
    "%matplotlib inline"
   ]
  },
  {
   "cell_type": "code",
   "execution_count": 2,
   "metadata": {},
   "outputs": [
    {
     "name": "stdout",
     "output_type": "stream",
     "text": [
      "[Knowledge.__init__] <class 'torch.Tensor'> with size of torch.Size([10000, 10]) is loaded\n"
     ]
    }
   ],
   "source": [
    "# Load logit into NumPy\n",
    "logit_f = open(\"./examples/data/lenet-mnist.csv\", \"r\")\n",
    "logit_np = np.loadtxt(logit_f)\n",
    "\n",
    "# Generate knowledge by logit_np\n",
    "klg = Knowledge(logit_np, T=1)"
   ]
  },
  {
   "cell_type": "code",
   "execution_count": 3,
   "metadata": {},
   "outputs": [],
   "source": [
    "# Give DarkSight the knowledge to distill\n",
    "ds = DarkSight(klg)"
   ]
  },
  {
   "cell_type": "code",
   "execution_count": 4,
   "metadata": {},
   "outputs": [],
   "source": [
    "# PyTorch DarkSight; with use_gpu=True and gpu_id=0, by default\n",
    "ds.ready()"
   ]
  },
  {
   "cell_type": "code",
   "execution_count": null,
   "metadata": {},
   "outputs": [
    {
     "name": "stdout",
     "output_type": "stream",
     "text": [
      "-------+--------+---\n",
      " Epoch |  Loss  | T \n",
      "-------+--------+---\n",
      "   100 | 0.1282 | 9\n",
      "   200 | 0.1426 | 8\n",
      "   300 | 0.1612 | 7\n",
      "   400 | 0.1805 | 6\n",
      "   500 | 0.1256 | 5\n",
      "   600 | 0.1160 | 4\n",
      "   700 | 0.1056 | 3\n",
      "   800 | 0.0941 | 2\n",
      "   900 | 0.0934 | 1\n",
      "  1000 | 0.1306 | 1\n",
      "  1100 | 0.1230 | 1\n",
      "  1200 | 0.1173 | 1\n",
      "  1300 | 0.1121 | 1\n"
     ]
    }
   ],
   "source": [
    "# Train for 2000 epochs with lr_cond, lr_y, lr_prior=1e-2, 5e-3, 1e-6\n",
    "ds.train(2000, [2e-2, 1e-2, 1e-6], do_annealing=True)"
   ]
  },
  {
   "cell_type": "code",
   "execution_count": null,
   "metadata": {},
   "outputs": [],
   "source": [
    "# Plot loss (i.e. symmetric KL divergence)\n",
    "ds.plot_loss()"
   ]
  },
  {
   "cell_type": "code",
   "execution_count": null,
   "metadata": {},
   "outputs": [],
   "source": [
    "# Plot 2D plot; with use_gpu=True and gpu_id=0 to generate contour, by default\n",
    "fig, ax = ds.plot_y(contour_on=True)\n",
    "fig.savefig(\"./examples/results/lenet-mnist.png\", format=\"png\", dpi=800, bbox_inches = 'tight', pad_inches = 0)"
   ]
  },
  {
   "cell_type": "code",
   "execution_count": null,
   "metadata": {},
   "outputs": [],
   "source": [
    "# Output trained DarkSight to .csv file\n",
    "ds.output(\"./examples/results/lenet-mnist.csv\")"
   ]
  },
  {
   "cell_type": "code",
   "execution_count": null,
   "metadata": {},
   "outputs": [],
   "source": []
  }
 ],
 "metadata": {
  "kernelspec": {
   "display_name": "Python 2",
   "language": "python",
   "name": "python2"
  },
  "language_info": {
   "codemirror_mode": {
    "name": "ipython",
    "version": 2
   },
   "file_extension": ".py",
   "mimetype": "text/x-python",
   "name": "python",
   "nbconvert_exporter": "python",
   "pygments_lexer": "ipython2",
   "version": "2.7.15"
  }
 },
 "nbformat": 4,
 "nbformat_minor": 2
}
